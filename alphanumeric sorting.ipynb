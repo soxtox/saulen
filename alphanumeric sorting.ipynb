{
 "cells": [
  {
   "cell_type": "markdown",
   "id": "05ab3ede",
   "metadata": {},
   "source": [
    "# input a string of alphanumeric number and output the sorted alphbet and number. "
   ]
  },
  {
   "cell_type": "markdown",
   "id": "4303be5c",
   "metadata": {},
   "source": [
    "input = q6w3g1 \n",
    "output = gqw136"
   ]
  },
  {
   "cell_type": "code",
   "execution_count": 7,
   "id": "2bb2a0bf",
   "metadata": {},
   "outputs": [
    {
     "name": "stdout",
     "output_type": "stream",
     "text": [
      "enter the string in the format as shown (A3B2r6):dfakj439hgre84ht\n",
      "adefghhjkrt34489\n"
     ]
    }
   ],
   "source": [
    "str1 = input(\"enter the string in the format as shown (A3B2r6):\") \n",
    "alp= []\n",
    "num = []\n",
    "\n",
    "for i in str1:\n",
    "    if i.isalpha():\n",
    "        alp.append(i)\n",
    "    else:\n",
    "        num.append(i)\n",
    "list = sorted(alp)+sorted(num)\n",
    "output = ''.join(list)\n",
    "print(output)\n",
    "\n"
   ]
  },
  {
   "cell_type": "code",
   "execution_count": null,
   "id": "e5259573",
   "metadata": {},
   "outputs": [],
   "source": []
  }
 ],
 "metadata": {
  "kernelspec": {
   "display_name": "Python 3 (ipykernel)",
   "language": "python",
   "name": "python3"
  },
  "language_info": {
   "codemirror_mode": {
    "name": "ipython",
    "version": 3
   },
   "file_extension": ".py",
   "mimetype": "text/x-python",
   "name": "python",
   "nbconvert_exporter": "python",
   "pygments_lexer": "ipython3",
   "version": "3.11.4"
  }
 },
 "nbformat": 4,
 "nbformat_minor": 5
}
